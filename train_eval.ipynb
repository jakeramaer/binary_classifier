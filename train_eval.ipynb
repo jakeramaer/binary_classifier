{
 "cells": [
  {
   "cell_type": "code",
   "execution_count": 1,
   "metadata": {},
   "outputs": [
    {
     "name": "stdout",
     "output_type": "stream",
     "text": [
      "Traceback (most recent call last):\n",
      "  File \"./src/train.py\", line 10, in <module>\n",
      "    config = json.load('./config.json')\n",
      "  File \"/Users/jakeramaer/miniconda3/envs/tenyks/lib/python3.6/json/__init__.py\", line 296, in load\n",
      "    return loads(fp.read(),\n",
      "AttributeError: 'str' object has no attribute 'read'\n"
     ]
    }
   ],
   "source": [
    "!python './src/train.py'"
   ]
  }
 ],
 "metadata": {
  "kernelspec": {
   "display_name": "Python 3.6.13 ('tenyks')",
   "language": "python",
   "name": "python3"
  },
  "language_info": {
   "codemirror_mode": {
    "name": "ipython",
    "version": 3
   },
   "file_extension": ".py",
   "mimetype": "text/x-python",
   "name": "python",
   "nbconvert_exporter": "python",
   "pygments_lexer": "ipython3",
   "version": "3.6.13"
  },
  "orig_nbformat": 4,
  "vscode": {
   "interpreter": {
    "hash": "44901ade6d2d0a49d08780e5f0e3382bf3935dad90e6f682f6d4fe52cf433400"
   }
  }
 },
 "nbformat": 4,
 "nbformat_minor": 2
}
